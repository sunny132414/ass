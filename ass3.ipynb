{
 "cells": [
  {
   "cell_type": "code",
   "execution_count": 1,
   "id": "c9973e30-253b-4959-9481-eaf3daa5ccec",
   "metadata": {},
   "outputs": [],
   "source": [
    "#Q!=. Explain Class and Object with respect to Object-Oriented Programming. Give a suitable example.\n"
   ]
  },
  {
   "cell_type": "code",
   "execution_count": 7,
   "id": "60905f8f-0bdf-4dab-b210-d9b291b30808",
   "metadata": {},
   "outputs": [],
   "source": [
    "#Ans=\n",
    "\"\"\"In object-oriented programming (OOP), a class is a blueprint or template for creating objects. It defines a set of attributes (data) and methods (functions) that the objects of that class will possess. An object, on the other hand, is an instance of a class. It is a tangible entity that can store data and perform actions based on the class's defined behavior.\"\"\"\n",
    "class pwskills :\n",
    "    \n",
    "    def __init__(sunny ,phone_number , email_id , student_id ):\n",
    "        sunny.phone_number = phone_number\n",
    "        sunny.email_id = email_id\n",
    "        sunny.student_id = student_id\n",
    "    \n",
    "    def return_student_details(sunny) : \n",
    "        return sunny.student_id ,sunny.phone_number ,sunny.email_id"
   ]
  },
  {
   "cell_type": "code",
   "execution_count": 8,
   "id": "6c3c24e7-3b2c-4504-8f36-72e8b2a6fcbc",
   "metadata": {},
   "outputs": [],
   "source": [
    "#Q2=. Name the four pillars of OOPs."
   ]
  },
  {
   "cell_type": "code",
   "execution_count": 9,
   "id": "5980eacc-5dfe-40eb-afb2-34129044f79b",
   "metadata": {},
   "outputs": [],
   "source": [
    "#Ans=Encapsultion,inheritance,abstraction,polymorphism"
   ]
  },
  {
   "cell_type": "code",
   "execution_count": 10,
   "id": "9cbf09a4-42e6-47cb-bef1-1ef406330db1",
   "metadata": {},
   "outputs": [],
   "source": [
    "#Q3= Explain why the __init__() function is used. Give a suitable example."
   ]
  },
  {
   "cell_type": "code",
   "execution_count": 11,
   "id": "ddf8a122-87b0-4762-b4d1-b75a0e6c6eb3",
   "metadata": {},
   "outputs": [],
   "source": [
    "#Ans=\n",
    "\"\"\"The __init__() function in Python is a special method, also known as the constructor method, which is automatically called when an object is created from a class. It is used to initialize the attributes (data members) of an object, setting their initial values.\"\"\"\n",
    "class car :\n",
    "    def __init__(self , year , make , model, speed ) : \n",
    "        \n",
    "        self.__year = year \n",
    "        self.__make = make\n",
    "        self.__model = model\n",
    "        self.__speed = 0\n",
    "        \n",
    "    def set_speed(self,speed) : \n",
    "        self.__speed = 0 if speed < 0 else speed\n",
    "        \n",
    "    def get_speed(self)  : \n",
    "        return self.__speed"
   ]
  },
  {
   "cell_type": "code",
   "execution_count": 12,
   "id": "72ba26c2-8073-42bd-b3f5-f96e5ed5b072",
   "metadata": {},
   "outputs": [],
   "source": [
    "#Q4= Why self is used in OOPs"
   ]
  },
  {
   "cell_type": "code",
   "execution_count": 14,
   "id": "a6dbbe6a-841f-42c7-878b-2f1c810ba364",
   "metadata": {},
   "outputs": [],
   "source": [
    "#Ans=\n",
    "#In Python, the self parameter is used in object-oriented programming (OOP) to refer to the instance of a class within its methods. It acts as a reference to the object itself, allowing the methods to access and manipulate its attributes and perform operations specific to that instance."
   ]
  },
  {
   "cell_type": "code",
   "execution_count": 15,
   "id": "19d8c777-2a11-4cf5-b0e6-8ee2874c4339",
   "metadata": {},
   "outputs": [],
   "source": [
    "#Q5= What is inheritance? Give an example for each type of inheritance.\n"
   ]
  },
  {
   "cell_type": "code",
   "execution_count": 16,
   "id": "62ed7625-de5e-49c8-8adf-71936884b967",
   "metadata": {},
   "outputs": [],
   "source": [
    "#Ans=Inheritance is a fundamental concept in object-oriented programming (OOP) that allows classes to inherit attributes and methods from other classes. It establishes a hierarchical relationship between classes, where a child class (derived class) can inherit properties and behaviors from a parent class (base class).\n",
    "#multiple inheritance\n",
    "class class1 :\n",
    "    def test_class1(self) : \n",
    "        print(\"this is my class1 \" )\n",
    "        \n"
   ]
  },
  {
   "cell_type": "code",
   "execution_count": 17,
   "id": "a111f9a1-476f-4401-956c-dc6446e9e568",
   "metadata": {},
   "outputs": [],
   "source": [
    "class class2(class1) : \n",
    "    def test_class2(self) : \n",
    "        print(\"this is my class2\" )"
   ]
  },
  {
   "cell_type": "code",
   "execution_count": 18,
   "id": "e361f824-6b86-47f0-8b05-220933da25b6",
   "metadata": {},
   "outputs": [],
   "source": [
    "class class3(class2) : \n",
    "    def test_class3(self) : \n",
    "        print(\"this is my class3 \")"
   ]
  },
  {
   "cell_type": "code",
   "execution_count": 19,
   "id": "df6d2220-f1dd-47b5-8c43-fa6e16d5feeb",
   "metadata": {},
   "outputs": [],
   "source": [
    "obj_class3  = class3()"
   ]
  },
  {
   "cell_type": "code",
   "execution_count": 20,
   "id": "f38b4e56-018c-4ccc-8789-9c4a20de3ded",
   "metadata": {},
   "outputs": [
    {
     "name": "stdout",
     "output_type": "stream",
     "text": [
      "this is my class2\n"
     ]
    }
   ],
   "source": [
    "obj_class3.test_class2()"
   ]
  },
  {
   "cell_type": "code",
   "execution_count": 21,
   "id": "d61c8fbe-b5ed-4b1f-a6d2-5fa6c47bcbba",
   "metadata": {},
   "outputs": [],
   "source": [
    "#multi level inheritance\n",
    "class class1:\n",
    "    def test_class1(self) : \n",
    "        print(\"this is my class 1\" )"
   ]
  },
  {
   "cell_type": "code",
   "execution_count": 22,
   "id": "950163a8-3506-41ea-bbb6-c75c1362281c",
   "metadata": {},
   "outputs": [],
   "source": [
    "class class2 :\n",
    "    def test_class2(self) : \n",
    "        print(\"this is my class 2\")"
   ]
  },
  {
   "cell_type": "code",
   "execution_count": 24,
   "id": "ee9ccc3a-e694-40db-a0f5-c1674a2da4b9",
   "metadata": {},
   "outputs": [],
   "source": [
    "class class3 (class1 , class2) :\n",
    "    pass\n"
   ]
  },
  {
   "cell_type": "code",
   "execution_count": 25,
   "id": "776e14bb-fd31-4e0e-9baa-71e28fa67bec",
   "metadata": {},
   "outputs": [],
   "source": [
    "obj_class3 = class3()"
   ]
  },
  {
   "cell_type": "code",
   "execution_count": 26,
   "id": "058fe59c-b92d-48fe-a10d-4c1ae13147d8",
   "metadata": {},
   "outputs": [
    {
     "name": "stdout",
     "output_type": "stream",
     "text": [
      "this is my class 1\n"
     ]
    }
   ],
   "source": [
    "obj_class3.test_class1()"
   ]
  },
  {
   "cell_type": "code",
   "execution_count": null,
   "id": "19d3d55f-de31-46a0-b34b-e60746d56bce",
   "metadata": {},
   "outputs": [],
   "source": []
  }
 ],
 "metadata": {
  "kernelspec": {
   "display_name": "Python 3 (ipykernel)",
   "language": "python",
   "name": "python3"
  },
  "language_info": {
   "codemirror_mode": {
    "name": "ipython",
    "version": 3
   },
   "file_extension": ".py",
   "mimetype": "text/x-python",
   "name": "python",
   "nbconvert_exporter": "python",
   "pygments_lexer": "ipython3",
   "version": "3.10.8"
  }
 },
 "nbformat": 4,
 "nbformat_minor": 5
}
